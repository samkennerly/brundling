{
 "cells": [
  {
   "cell_type": "markdown",
   "metadata": {},
   "source": [
    "# ErgastAPI\n",
    "\n",
    "Get data from https://ergast.com/mrd/ API."
   ]
  },
  {
   "cell_type": "code",
   "execution_count": 1,
   "metadata": {},
   "outputs": [
    {
     "data": {
      "application/javascript": [
       "IPython.notebook.set_autosave_interval(0)"
      ]
     },
     "metadata": {},
     "output_type": "display_data"
    },
    {
     "name": "stdout",
     "output_type": "stream",
     "text": [
      "Autosave disabled\n"
     ]
    }
   ],
   "source": [
    "%autosave 0\n",
    "\n",
    "from tools import ERGAST_API, ErgastAPI"
   ]
  },
  {
   "cell_type": "markdown",
   "metadata": {},
   "source": [
    "## create an `ErgastAPI`\n",
    "If no folder input, then cache is disabled."
   ]
  },
  {
   "cell_type": "code",
   "execution_count": 2,
   "metadata": {},
   "outputs": [
    {
     "data": {
      "text/plain": [
       "ErgastAPI(folder=None, limit=100, retries=2, timeout=8.0)"
      ]
     },
     "execution_count": 2,
     "metadata": {},
     "output_type": "execute_result"
    }
   ],
   "source": [
    "ErgastAPI()"
   ]
  },
  {
   "cell_type": "markdown",
   "metadata": {},
   "source": [
    "## call to generate pages\n",
    "Some queries return multiple pages.\n",
    "Set a `limit` if you want small pages."
   ]
  },
  {
   "cell_type": "code",
   "execution_count": 3,
   "metadata": {},
   "outputs": [
    {
     "name": "stdout",
     "output_type": "stream",
     "text": [
      "<generator object ErgastAPI.batches at 0x7fc3ad5c56d0>\n"
     ]
    }
   ],
   "source": [
    "api = ErgastAPI(limit=5)\n",
    "pages = api('f1', 'drivers')\n",
    "print(pages)"
   ]
  },
  {
   "cell_type": "code",
   "execution_count": 4,
   "metadata": {},
   "outputs": [
    {
     "name": "stdout",
     "output_type": "stream",
     "text": [
      "GET https://ergast.com/api/f1/drivers.json?limit=5&offset=0\n"
     ]
    },
    {
     "data": {
      "text/plain": [
       "{'MRData': {'xmlns': 'http://ergast.com/mrd/1.4',\n",
       "  'series': 'f1',\n",
       "  'url': 'http://ergast.com/api/f1/drivers.json',\n",
       "  'limit': '5',\n",
       "  'offset': '0',\n",
       "  'total': '848',\n",
       "  'DriverTable': {'Drivers': [{'driverId': 'abate',\n",
       "     'url': 'http://en.wikipedia.org/wiki/Carlo_Mario_Abate',\n",
       "     'givenName': 'Carlo',\n",
       "     'familyName': 'Abate',\n",
       "     'dateOfBirth': '1932-07-10',\n",
       "     'nationality': 'Italian'},\n",
       "    {'driverId': 'abecassis',\n",
       "     'url': 'http://en.wikipedia.org/wiki/George_Abecassis',\n",
       "     'givenName': 'George',\n",
       "     'familyName': 'Abecassis',\n",
       "     'dateOfBirth': '1913-03-21',\n",
       "     'nationality': 'British'},\n",
       "    {'driverId': 'acheson',\n",
       "     'url': 'http://en.wikipedia.org/wiki/Kenny_Acheson',\n",
       "     'givenName': 'Kenny',\n",
       "     'familyName': 'Acheson',\n",
       "     'dateOfBirth': '1957-11-27',\n",
       "     'nationality': 'British'},\n",
       "    {'driverId': 'adams',\n",
       "     'url': 'http://en.wikipedia.org/wiki/Philippe_Adams',\n",
       "     'givenName': 'Philippe',\n",
       "     'familyName': 'Adams',\n",
       "     'dateOfBirth': '1969-11-19',\n",
       "     'nationality': 'Belgian'},\n",
       "    {'driverId': 'ader',\n",
       "     'url': 'http://en.wikipedia.org/wiki/Walt_Ader',\n",
       "     'givenName': 'Walt',\n",
       "     'familyName': 'Ader',\n",
       "     'dateOfBirth': '1913-12-15',\n",
       "     'nationality': 'American'}]}}}"
      ]
     },
     "execution_count": 4,
     "metadata": {},
     "output_type": "execute_result"
    }
   ],
   "source": [
    "next(pages)"
   ]
  },
  {
   "cell_type": "markdown",
   "metadata": {},
   "source": [
    "## automatic cache\n",
    "Input a cache `folder`.\n",
    "Repeating the same query will return cached pages.\n",
    "\n",
    "**Cached pages never expire.** Delete the folder to clear the cache."
   ]
  },
  {
   "cell_type": "code",
   "execution_count": 5,
   "metadata": {},
   "outputs": [
    {
     "data": {
      "text/plain": [
       "ErgastAPI(folder=/context/data/cache, limit=100, retries=2, timeout=8.0)"
      ]
     },
     "execution_count": 5,
     "metadata": {},
     "output_type": "execute_result"
    }
   ],
   "source": [
    "api = ErgastAPI(ERGAST_API)\n",
    "api"
   ]
  },
  {
   "cell_type": "code",
   "execution_count": 6,
   "metadata": {},
   "outputs": [
    {
     "data": {
      "text/plain": [
       "[{'MRData': {'xmlns': 'http://ergast.com/mrd/1.4',\n",
       "   'series': 'f1',\n",
       "   'url': 'http://ergast.com/api/f1/2019/6.json',\n",
       "   'limit': '100',\n",
       "   'offset': '0',\n",
       "   'total': '1',\n",
       "   'RaceTable': {'season': '2019',\n",
       "    'round': '6',\n",
       "    'Races': [{'season': '2019',\n",
       "      'round': '6',\n",
       "      'url': 'https://en.wikipedia.org/wiki/2019_Monaco_Grand_Prix',\n",
       "      'raceName': 'Monaco Grand Prix',\n",
       "      'Circuit': {'circuitId': 'monaco',\n",
       "       'url': 'http://en.wikipedia.org/wiki/Circuit_de_Monaco',\n",
       "       'circuitName': 'Circuit de Monaco',\n",
       "       'Location': {'lat': '43.7347',\n",
       "        'long': '7.42056',\n",
       "        'locality': 'Monte-Carlo',\n",
       "        'country': 'Monaco'}},\n",
       "      'date': '2019-05-26',\n",
       "      'time': '13:10:00Z'}]}}}]"
      ]
     },
     "execution_count": 6,
     "metadata": {},
     "output_type": "execute_result"
    }
   ],
   "source": [
    "race = list(api('f1', 2019, 6))\n",
    "race"
   ]
  },
  {
   "cell_type": "code",
   "execution_count": 7,
   "metadata": {},
   "outputs": [
    {
     "data": {
      "text/plain": [
       "True"
      ]
     },
     "execution_count": 7,
     "metadata": {},
     "output_type": "execute_result"
    }
   ],
   "source": [
    "# Same query returns cached pages.\n",
    "race1 = list(api('f1', 2019, 6))\n",
    "race1 == race"
   ]
  },
  {
   "cell_type": "markdown",
   "metadata": {},
   "source": [
    "## tuples\n",
    "Some common queries are available as lists of namedtuples."
   ]
  },
  {
   "cell_type": "code",
   "execution_count": 8,
   "metadata": {},
   "outputs": [],
   "source": [
    "def show(table):\n",
    "    print(f\"rows: {len(table)}\")\n",
    "    print(f\"columns: {table[0]._fields}\")\n",
    "    return table[-2:]"
   ]
  },
  {
   "cell_type": "code",
   "execution_count": 9,
   "metadata": {},
   "outputs": [
    {
     "name": "stdout",
     "output_type": "stream",
     "text": [
      "rows: 74\n",
      "columns: ('circuitId', 'circuitName', 'country', 'lat', 'long', 'locality', 'url')\n"
     ]
    },
    {
     "data": {
      "text/plain": [
       "[Circuit(circuitId='zeltweg', circuitName='Zeltweg', country='Austria', lat='47.2039', long='14.7478', locality='Styria', url='http://en.wikipedia.org/wiki/Zeltweg_Airfield'),\n",
       " Circuit(circuitId='zolder', circuitName='Zolder', country='Belgium', lat='50.9894', long='5.25694', locality='Heusden-Zolder', url='http://en.wikipedia.org/wiki/Zolder')]"
      ]
     },
     "execution_count": 9,
     "metadata": {},
     "output_type": "execute_result"
    }
   ],
   "source": [
    "show(api.f1circuits)"
   ]
  },
  {
   "cell_type": "code",
   "execution_count": 10,
   "metadata": {},
   "outputs": [
    {
     "name": "stdout",
     "output_type": "stream",
     "text": [
      "rows: 209\n",
      "columns: ('constructorId', 'name', 'nationality', 'url')\n"
     ]
    },
    {
     "data": {
      "text/plain": [
       "[Constructor(constructorId='wolf', name='Wolf', nationality='Canadian', url='http://en.wikipedia.org/wiki/Walter_Wolf_Racing'),\n",
       " Constructor(constructorId='zakspeed', name='Zakspeed', nationality='German', url='http://en.wikipedia.org/wiki/Zakspeed')]"
      ]
     },
     "execution_count": 10,
     "metadata": {},
     "output_type": "execute_result"
    }
   ],
   "source": [
    "show(api.f1constructors)"
   ]
  },
  {
   "cell_type": "code",
   "execution_count": 11,
   "metadata": {},
   "outputs": [
    {
     "name": "stdout",
     "output_type": "stream",
     "text": [
      "rows: 847\n",
      "columns: ('driverId', 'code', 'dateOfBirth', 'familyName', 'givenName', 'nationality', 'permanentNumber', 'url')\n"
     ]
    },
    {
     "data": {
      "text/plain": [
       "[Driver(driverId='zorzi', code=None, dateOfBirth='1946-12-12', familyName='Zorzi', givenName='Renzo', nationality='Italian', permanentNumber=None, url='http://en.wikipedia.org/wiki/Renzo_Zorzi'),\n",
       " Driver(driverId='zunino', code=None, dateOfBirth='1949-04-13', familyName='Zunino', givenName='Ricardo', nationality='Argentine', permanentNumber=None, url='http://en.wikipedia.org/wiki/Ricardo_Zunino')]"
      ]
     },
     "execution_count": 11,
     "metadata": {},
     "output_type": "execute_result"
    }
   ],
   "source": [
    "show(api.f1drivers)"
   ]
  },
  {
   "cell_type": "code",
   "execution_count": 12,
   "metadata": {},
   "outputs": [
    {
     "name": "stdout",
     "output_type": "stream",
     "text": [
      "rows: 71\n",
      "columns: ('season', 'url')\n"
     ]
    },
    {
     "data": {
      "text/plain": [
       "[Season(season='2019', url='https://en.wikipedia.org/wiki/2019_Formula_One_World_Championship'),\n",
       " Season(season='2020', url='https://en.wikipedia.org/wiki/2020_Formula_One_World_Championship')]"
      ]
     },
     "execution_count": 12,
     "metadata": {},
     "output_type": "execute_result"
    }
   ],
   "source": [
    "show(api.f1seasons)"
   ]
  },
  {
   "cell_type": "code",
   "execution_count": 13,
   "metadata": {},
   "outputs": [
    {
     "name": "stdout",
     "output_type": "stream",
     "text": [
      "rows: 133\n",
      "columns: ('statusId', 'count', 'status')\n"
     ]
    },
    {
     "data": {
      "text/plain": [
       "[Status(statusId='136', count='1', status='Seat'),\n",
       " Status(statusId='137', count='1', status='Damage')]"
      ]
     },
     "execution_count": 13,
     "metadata": {},
     "output_type": "execute_result"
    }
   ],
   "source": [
    "show(api.f1status)"
   ]
  },
  {
   "cell_type": "markdown",
   "metadata": {},
   "source": [
    "## cache control\n",
    "\n",
    "Manually override the automatic cache if you want to.\n",
    "\n",
    "- `batches(*args)` returns fresh pages.\n",
    "- `cached(*args)` ensures cached pages exist and returns them.\n",
    "- `download(*args)` deletes old pages (if any) and saves new ones.\n",
    "- `erase(*args)` deletes old pages.\n",
    "\n",
    "Each method *only* affects pages for a specific query.  "
   ]
  },
  {
   "cell_type": "code",
   "execution_count": 14,
   "metadata": {
    "scrolled": false
   },
   "outputs": [
    {
     "name": "stdout",
     "output_type": "stream",
     "text": [
      "GET https://ergast.com/api/f1/1990/6/pitstops.json?limit=100&offset=0\n"
     ]
    },
    {
     "data": {
      "text/plain": [
       "[{'MRData': {'xmlns': 'http://ergast.com/mrd/1.4',\n",
       "   'series': 'f1',\n",
       "   'url': 'http://ergast.com/api/f1/1990/6/pitstops.json',\n",
       "   'limit': '100',\n",
       "   'offset': '0',\n",
       "   'total': '0',\n",
       "   'RaceTable': {'season': '1990', 'round': '6', 'Races': []}}}]"
      ]
     },
     "execution_count": 14,
     "metadata": {},
     "output_type": "execute_result"
    }
   ],
   "source": [
    "# Does not update cache.\n",
    "list(api.batches('f1', 1990, 6, 'pitstops'))"
   ]
  },
  {
   "cell_type": "code",
   "execution_count": 15,
   "metadata": {},
   "outputs": [
    {
     "name": "stdout",
     "output_type": "stream",
     "text": [
      "GET https://ergast.com/api/f1/1990/6/pitstops.json?limit=100&offset=0\n",
      "save /context/data/cache/f1/1990/6/pitstops/0.json\n"
     ]
    },
    {
     "data": {
      "text/plain": [
       "[{'MRData': {'xmlns': 'http://ergast.com/mrd/1.4',\n",
       "   'series': 'f1',\n",
       "   'url': 'http://ergast.com/api/f1/1990/6/pitstops.json',\n",
       "   'limit': '100',\n",
       "   'offset': '0',\n",
       "   'total': '0',\n",
       "   'RaceTable': {'season': '1990', 'round': '6', 'Races': []}}}]"
      ]
     },
     "execution_count": 15,
     "metadata": {},
     "output_type": "execute_result"
    }
   ],
   "source": [
    "# Update cache if empty.\n",
    "list(api.cached('f1', 1990, 6, 'pitstops'))"
   ]
  },
  {
   "cell_type": "code",
   "execution_count": 16,
   "metadata": {},
   "outputs": [
    {
     "data": {
      "text/plain": [
       "[{'MRData': {'xmlns': 'http://ergast.com/mrd/1.4',\n",
       "   'series': 'f1',\n",
       "   'url': 'http://ergast.com/api/f1/1990/6/pitstops.json',\n",
       "   'limit': '100',\n",
       "   'offset': '0',\n",
       "   'total': '0',\n",
       "   'RaceTable': {'season': '1990', 'round': '6', 'Races': []}}}]"
      ]
     },
     "execution_count": 16,
     "metadata": {},
     "output_type": "execute_result"
    }
   ],
   "source": [
    "# Same query again returns cached pages.\n",
    "list(api.cached('f1', 1990, 6, 'pitstops'))"
   ]
  },
  {
   "cell_type": "code",
   "execution_count": 17,
   "metadata": {},
   "outputs": [
    {
     "name": "stdout",
     "output_type": "stream",
     "text": [
      "rm /context/data/cache/f1/1990/6/pitstops/0.json\n",
      "GET https://ergast.com/api/f1/1990/6/pitstops.json?limit=100&offset=0\n",
      "save /context/data/cache/f1/1990/6/pitstops/0.json\n"
     ]
    }
   ],
   "source": [
    "# Update cache and overwrite old files.\n",
    "api.download('f1', 1990, 6, 'pitstops')"
   ]
  },
  {
   "cell_type": "code",
   "execution_count": 18,
   "metadata": {},
   "outputs": [
    {
     "name": "stdout",
     "output_type": "stream",
     "text": [
      "rm /context/data/cache/f1/1990/6/pitstops/0.json\n"
     ]
    }
   ],
   "source": [
    "# Clear cached pages for this query.\n",
    "api.erase('f1', 1990, 6, 'pitstops')"
   ]
  },
  {
   "cell_type": "markdown",
   "metadata": {},
   "source": [
    "## automatic retries\n",
    "If at first you don't succeed, try again with exponential backoff."
   ]
  },
  {
   "cell_type": "code",
   "execution_count": 19,
   "metadata": {
    "scrolled": false
   },
   "outputs": [
    {
     "name": "stdout",
     "output_type": "stream",
     "text": [
      "GET https://ergast.com/api/f1/1990/6/pitstops.json?limit=100&offset=0\n"
     ]
    },
    {
     "name": "stderr",
     "output_type": "stream",
     "text": [
      "ERROR ergast_api Retry in 0.1 seconds because <urlopen error _ssl.c:1059: The handshake operation timed out>\n"
     ]
    },
    {
     "data": {
      "text/plain": [
       "{'MRData': {'xmlns': 'http://ergast.com/mrd/1.4',\n",
       "  'series': 'f1',\n",
       "  'url': 'http://ergast.com/api/f1/1990/6/pitstops.json',\n",
       "  'limit': '100',\n",
       "  'offset': '0',\n",
       "  'total': '0',\n",
       "  'RaceTable': {'season': '1990', 'round': '6', 'Races': []}}}"
      ]
     },
     "execution_count": 19,
     "metadata": {},
     "output_type": "execute_result"
    }
   ],
   "source": [
    "api = ErgastAPI(retries=3, timeout=0.1)\n",
    "pages = api('f1', 1990, 6, 'pitstops')\n",
    "next(pages)"
   ]
  }
 ],
 "metadata": {
  "kernelspec": {
   "display_name": "Python 3",
   "language": "python",
   "name": "python3"
  },
  "language_info": {
   "codemirror_mode": {
    "name": "ipython",
    "version": 3
   },
   "file_extension": ".py",
   "mimetype": "text/x-python",
   "name": "python",
   "nbconvert_exporter": "python",
   "pygments_lexer": "ipython3",
   "version": "3.7.5"
  }
 },
 "nbformat": 4,
 "nbformat_minor": 2
}
