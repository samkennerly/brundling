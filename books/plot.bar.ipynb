{
 "cells": [
  {
   "cell_type": "markdown",
   "metadata": {},
   "source": [
    "# bar charts\n",
    "with Formula 1 data from https://ergast.com/mrd/db"
   ]
  },
  {
   "cell_type": "code",
   "execution_count": 1,
   "metadata": {},
   "outputs": [
    {
     "data": {
      "application/javascript": [
       "IPython.notebook.set_autosave_interval(0)"
      ]
     },
     "metadata": {},
     "output_type": "display_data"
    },
    {
     "name": "stdout",
     "output_type": "stream",
     "text": [
      "Autosave disabled\n"
     ]
    }
   ],
   "source": [
    "%autosave 0\n",
    "\n",
    "from tools import *\n",
    "\n",
    "f1 = ErgastZIP(ERGAST_ZIP)\n",
    "plot = Plot()"
   ]
  },
  {
   "cell_type": "code",
   "execution_count": 2,
   "metadata": {
    "scrolled": false
   },
   "outputs": [
    {
     "data": {
      "text/html": [
       "<div>\n",
       "<style scoped>\n",
       "    .dataframe tbody tr th:only-of-type {\n",
       "        vertical-align: middle;\n",
       "    }\n",
       "\n",
       "    .dataframe tbody tr th {\n",
       "        vertical-align: top;\n",
       "    }\n",
       "\n",
       "    .dataframe thead th {\n",
       "        text-align: right;\n",
       "    }\n",
       "</style>\n",
       "<table border=\"1\" class=\"dataframe\">\n",
       "  <thead>\n",
       "    <tr style=\"text-align: right;\">\n",
       "      <th></th>\n",
       "      <th>season</th>\n",
       "      <th>race</th>\n",
       "      <th>round</th>\n",
       "      <th>points</th>\n",
       "      <th>team</th>\n",
       "    </tr>\n",
       "  </thead>\n",
       "  <tbody>\n",
       "    <tr>\n",
       "      <th>0</th>\n",
       "      <td>1956</td>\n",
       "      <td>Argentine GP</td>\n",
       "      <td>1</td>\n",
       "      <td>12.0</td>\n",
       "      <td>Ferrari</td>\n",
       "    </tr>\n",
       "    <tr>\n",
       "      <th>1</th>\n",
       "      <td>1956</td>\n",
       "      <td>Argentine GP</td>\n",
       "      <td>1</td>\n",
       "      <td>13.0</td>\n",
       "      <td>Maserati</td>\n",
       "    </tr>\n",
       "    <tr>\n",
       "      <th>2</th>\n",
       "      <td>1956</td>\n",
       "      <td>German GP</td>\n",
       "      <td>7</td>\n",
       "      <td>9.0</td>\n",
       "      <td>Ferrari</td>\n",
       "    </tr>\n",
       "    <tr>\n",
       "      <th>3</th>\n",
       "      <td>1956</td>\n",
       "      <td>German GP</td>\n",
       "      <td>7</td>\n",
       "      <td>15.0</td>\n",
       "      <td>Maserati</td>\n",
       "    </tr>\n",
       "    <tr>\n",
       "      <th>4</th>\n",
       "      <td>1958</td>\n",
       "      <td>Argentine GP</td>\n",
       "      <td>1</td>\n",
       "      <td>3.0</td>\n",
       "      <td>Maserati</td>\n",
       "    </tr>\n",
       "    <tr>\n",
       "      <th>...</th>\n",
       "      <td>...</td>\n",
       "      <td>...</td>\n",
       "      <td>...</td>\n",
       "      <td>...</td>\n",
       "      <td>...</td>\n",
       "    </tr>\n",
       "    <tr>\n",
       "      <th>4933</th>\n",
       "      <td>2019</td>\n",
       "      <td>Abu Dhabi GP</td>\n",
       "      <td>21</td>\n",
       "      <td>5.0</td>\n",
       "      <td>McLaren</td>\n",
       "    </tr>\n",
       "    <tr>\n",
       "      <th>4934</th>\n",
       "      <td>2019</td>\n",
       "      <td>Abu Dhabi GP</td>\n",
       "      <td>21</td>\n",
       "      <td>6.0</td>\n",
       "      <td>Racing Point</td>\n",
       "    </tr>\n",
       "    <tr>\n",
       "      <th>4935</th>\n",
       "      <td>2019</td>\n",
       "      <td>Abu Dhabi GP</td>\n",
       "      <td>21</td>\n",
       "      <td>25.0</td>\n",
       "      <td>Ferrari</td>\n",
       "    </tr>\n",
       "    <tr>\n",
       "      <th>4936</th>\n",
       "      <td>2019</td>\n",
       "      <td>Abu Dhabi GP</td>\n",
       "      <td>21</td>\n",
       "      <td>26.0</td>\n",
       "      <td>Red Bull</td>\n",
       "    </tr>\n",
       "    <tr>\n",
       "      <th>4937</th>\n",
       "      <td>2019</td>\n",
       "      <td>Abu Dhabi GP</td>\n",
       "      <td>21</td>\n",
       "      <td>38.0</td>\n",
       "      <td>Mercedes</td>\n",
       "    </tr>\n",
       "  </tbody>\n",
       "</table>\n",
       "<p>4938 rows × 5 columns</p>\n",
       "</div>"
      ],
      "text/plain": [
       "      season          race  round  points          team\n",
       "0       1956  Argentine GP      1    12.0       Ferrari\n",
       "1       1956  Argentine GP      1    13.0      Maserati\n",
       "2       1956     German GP      7     9.0       Ferrari\n",
       "3       1956     German GP      7    15.0      Maserati\n",
       "4       1958  Argentine GP      1     3.0      Maserati\n",
       "...      ...           ...    ...     ...           ...\n",
       "4933    2019  Abu Dhabi GP     21     5.0       McLaren\n",
       "4934    2019  Abu Dhabi GP     21     6.0  Racing Point\n",
       "4935    2019  Abu Dhabi GP     21    25.0       Ferrari\n",
       "4936    2019  Abu Dhabi GP     21    26.0      Red Bull\n",
       "4937    2019  Abu Dhabi GP     21    38.0      Mercedes\n",
       "\n",
       "[4938 rows x 5 columns]"
      ]
     },
     "execution_count": 2,
     "metadata": {},
     "output_type": "execute_result"
    }
   ],
   "source": [
    "points = (\n",
    "    f1.team_results\n",
    "    .loc[lambda df: df['points'].gt(0)]\n",
    "    .join(f1.races['season round race'.split()], on='id_race')\n",
    "    .join(f1.teams['team'], on='id_team')\n",
    "    ['season race round points team'.split()]\n",
    "    .sort_values('season round points'.split())\n",
    "    .reset_index(drop=True)\n",
    ")\n",
    "points['race'] = points['race'].str.replace('Grand Prix', 'GP')\n",
    "points"
   ]
  },
  {
   "cell_type": "markdown",
   "metadata": {},
   "source": [
    "## colors of money"
   ]
  },
  {
   "cell_type": "code",
   "execution_count": 3,
   "metadata": {},
   "outputs": [],
   "source": [
    "from collections import defaultdict\n",
    "\n",
    "color = defaultdict(lambda: '#000000')\n",
    "color['Arrows'] = color['Footwork'] = '#ffffbb'\n",
    "color['BAR'] = color['Honda'] = '#77bb77'\n",
    "color['Benetton'] = '#00bb00'\n",
    "color['BMW'] = color['BMW Sauber'] = color['Sauber'] = '#ffffff'\n",
    "color['Brawn'] = '#bbff00'\n",
    "color['Ferrari'] = '#ff0000'\n",
    "color['Force India'] = color['Racing Point'] = '#ffbbbb'\n",
    "color['Jordan'] = '#ffff00'\n",
    "color['Ligier'] = color['Prost'] = '#0000ff'\n",
    "color['March'] = color['Leyton House'] = '#77ffff'\n",
    "color['McLaren'] = '#ff7700'\n",
    "color['Mercedes'] = '#bbbbbb'\n",
    "color['Red Bull'] = '#770077'\n",
    "color['Renault'] = '#00bbff'\n",
    "color['Stewart'] = color['Jaguar'] = '#007700'\n",
    "color['Toro Rosso'] = '#000077'\n",
    "color['Toyota'] = '#ff3333'\n",
    "color['Tyrrell'] = '#770000'\n",
    "color['Williams'] = '#0000bb'"
   ]
  },
  {
   "cell_type": "code",
   "execution_count": 4,
   "metadata": {
    "scrolled": false
   },
   "outputs": [
    {
     "name": "stdout",
     "output_type": "stream",
     "text": [
      "Save /context/data/plots/colors_of_money.png\n"
     ]
    },
    {
     "data": {
      "image/png": "[encoded data removed]",
      "text/plain": [
       "<Figure size 900x500 with 1 Axes>"
      ]
     },
     "metadata": {
      "needs_background": "light"
     },
     "output_type": "display_data"
    }
   ],
   "source": [
    "def yearshare(start, stop, n=11, **kwargs):\n",
    "    data = (\n",
    "        points.loc[points['season'].between(start, stop)]\n",
    "        .groupby('season team'.split())\n",
    "        ['points'].sum().unstack('team', fill_value=0)\n",
    "    )\n",
    "    data = 100 * data.div(data.sum(axis=1), axis=0)\n",
    "    data = data[data.max().nlargest(n).index]\n",
    "    \n",
    "    kwargs.setdefault('color', data.columns.map(color))\n",
    "    kwargs.setdefault('edgecolor', 'black')\n",
    "    kwargs.setdefault('title', f\"point share\")\n",
    "    kwargs.setdefault('ylabel', '% of all points')    \n",
    "    \n",
    "    return plot.bar(data, **kwargs)\n",
    "    \n",
    "axes = yearshare(1988, 2019)\n",
    "savepng(axes, 'colors_of_money')"
   ]
  },
  {
   "cell_type": "markdown",
   "metadata": {},
   "source": [
    "## hammer time"
   ]
  },
  {
   "cell_type": "code",
   "execution_count": 5,
   "metadata": {},
   "outputs": [],
   "source": [
    "def racepoints(data, season, n=7, **kwargs):\n",
    "    data = (\n",
    "        data.loc[points['season'].eq(year)]\n",
    "        .groupby('race team'.split(), sort=False)\n",
    "        ['points'].sum().unstack('team', fill_value=0)\n",
    "    )\n",
    "    data = data[data.sum().nlargest(n).index]\n",
    "    \n",
    "    kwargs.setdefault('color', data.columns.map(color))\n",
    "    kwargs.setdefault('edgecolor', 'black')\n",
    "    kwargs.setdefault('title', f\"{season} team points\")\n",
    "    \n",
    "    return plot.barh(data, **kwargs)"
   ]
  },
  {
   "cell_type": "code",
   "execution_count": 6,
   "metadata": {
    "scrolled": false
   },
   "outputs": [
    {
     "name": "stdout",
     "output_type": "stream",
     "text": [
      "Save /context/data/plots/1988.png\n",
      "Save /context/data/plots/1989.png\n",
      "Save /context/data/plots/1990.png\n",
      "Save /context/data/plots/1991.png\n",
      "Save /context/data/plots/1992.png\n",
      "Save /context/data/plots/1993.png\n",
      "Save /context/data/plots/1994.png\n",
      "Save /context/data/plots/1995.png\n",
      "Save /context/data/plots/1996.png\n",
      "Save /context/data/plots/1997.png\n",
      "Save /context/data/plots/1998.png\n",
      "Save /context/data/plots/1999.png\n",
      "Save /context/data/plots/2000.png\n",
      "Save /context/data/plots/2001.png\n",
      "Save /context/data/plots/2002.png\n",
      "Save /context/data/plots/2003.png\n",
      "Save /context/data/plots/2004.png\n",
      "Save /context/data/plots/2005.png\n",
      "Save /context/data/plots/2006.png\n",
      "Save /context/data/plots/2007.png\n",
      "Save /context/data/plots/2008.png\n",
      "Save /context/data/plots/2009.png\n",
      "Save /context/data/plots/2010.png\n",
      "Save /context/data/plots/2011.png\n",
      "Save /context/data/plots/2012.png\n",
      "Save /context/data/plots/2013.png\n",
      "Save /context/data/plots/2014.png\n",
      "Save /context/data/plots/2015.png\n",
      "Save /context/data/plots/2016.png\n",
      "Save /context/data/plots/2017.png\n",
      "Save /context/data/plots/2018.png\n",
      "Save /context/data/plots/2019.png\n"
     ]
    }
   ],
   "source": [
    "from matplotlib.pyplot import close\n",
    "\n",
    "for year in range(1988, 2020):\n",
    "    axes = racepoints(points, year)\n",
    "    savepng(axes, year)\n",
    "    close(axes.figure)"
   ]
  },
  {
   "cell_type": "code",
   "execution_count": null,
   "metadata": {},
   "outputs": [],
   "source": []
  },
  {
   "cell_type": "code",
   "execution_count": null,
   "metadata": {},
   "outputs": [],
   "source": []
  },
  {
   "cell_type": "code",
   "execution_count": null,
   "metadata": {},
   "outputs": [],
   "source": []
  },
  {
   "cell_type": "code",
   "execution_count": null,
   "metadata": {},
   "outputs": [],
   "source": []
  }
 ],
 "metadata": {
  "kernelspec": {
   "display_name": "Python 3",
   "language": "python",
   "name": "python3"
  },
  "language_info": {
   "codemirror_mode": {
    "name": "ipython",
    "version": 3
   },
   "file_extension": ".py",
   "mimetype": "text/x-python",
   "name": "python",
   "nbconvert_exporter": "python",
   "pygments_lexer": "ipython3",
   "version": "3.7.5"
  }
 },
 "nbformat": 4,
 "nbformat_minor": 2
}
